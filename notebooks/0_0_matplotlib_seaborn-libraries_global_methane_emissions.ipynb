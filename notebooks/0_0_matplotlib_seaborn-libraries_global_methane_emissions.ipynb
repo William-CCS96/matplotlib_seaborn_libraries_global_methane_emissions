{
  "cells": [
    {
      "cell_type": "markdown",
      "metadata": {},
      "source": [
        "<div style=\"display: flex; justify-content: center;\">\n",
        "    <img src=\"../images/Logo-personal_Fondo_blanco.png\" alt=\"Logo_personal\" /> \n",
        "</div>\n",
        "<p align=\"center\">\n",
        "  <h1 align=\"center\">Matplotlib and seaborn libraries<h1>\n",
        "  <h4 align=\"center\">Dataset of Global methane emissions</h4>\n",
        "</p>\n",
        "\n",
        "---\n",
        "\n",
        "## Introduction\n",
        "This notebook is the result of the practice carried out in the course [\"Curso de Visualización de Datos con Matplotlib y Seaborn\"](https://platzi.com/cursos/matplotlib-seaborn/), where the Data set \"Methane_final\" was used to evaluate methane emissions according to regions, countries and productive sectors. The analysis begins by looking at emissions at the regional level around the world, and then addresses the question of whether there is a relationship between population and emissions. After clarifying these concerns, we proceed to identify the emissions by regions and productive sectors.\n",
        "\n",
        "To achieve a more detailed understanding, an analysis of emissions is carried out in relation to the main world powers and productive sectors. In addition, the same previous analysis is carried out but focused on Colombia, as an additional component.\n",
        "\n",
        "For more information share the notes in Notion of the course with more functions [View site ](https://aluminum-carbon-41d.notion.site/C-B-de-Visualizaci-n-de-Datos-con-Matplotlib-y-Seaborn-d58a2bf6689d4ca3b1e28fbb9a584086?pvs=4)\n",
        "\n",
        "## Data\n",
        "The Data set [\"Methane_final\"](https://www.kaggle.com/datasets/ashishraut64/global-methane-emissions) of kaggel contains methane emissions by regions, countries, type and segment with two periods of time 2019-2021 and 2022 independently\n",
        "___\n"
      ]
    },
    {
      "cell_type": "markdown",
      "metadata": {},
      "source": [
        "\n",
        "## Development\n",
        "### Importing Libraries"
      ]
    },
    {
      "cell_type": "code",
      "execution_count": 1,
      "metadata": {
        "id": "t10IcMfhbx_T"
      },
      "outputs": [
        {
          "name": "stdout",
          "output_type": "stream",
          "text": [
            "Imported libraries\n"
          ]
        }
      ],
      "source": [
        "import numpy as np\n",
        "import pandas as pd\n",
        "import matplotlib.pyplot as plt\n",
        "import seaborn as sns\n",
        "from matplotlib.colors import LinearSegmentedColormap\n",
        "\n",
        "print('Imported libraries')"
      ]
    },
    {
      "cell_type": "markdown",
      "metadata": {
        "id": "TbFAbVoRUY1K"
      },
      "source": [
        "### Import the dataset"
      ]
    },
    {
      "cell_type": "code",
      "execution_count": 2,
      "metadata": {
        "colab": {
          "base_uri": "https://localhost:8080/",
          "height": 112
        },
        "id": "KhrGJCk9cdOp",
        "outputId": "cfcb5e41-ff53-4134-bb5b-6a4975f8fa45"
      },
      "outputs": [
        {
          "data": {
            "text/html": [
              "<div>\n",
              "<style scoped>\n",
              "    .dataframe tbody tr th:only-of-type {\n",
              "        vertical-align: middle;\n",
              "    }\n",
              "\n",
              "    .dataframe tbody tr th {\n",
              "        vertical-align: top;\n",
              "    }\n",
              "\n",
              "    .dataframe thead th {\n",
              "        text-align: right;\n",
              "    }\n",
              "</style>\n",
              "<table border=\"1\" class=\"dataframe\">\n",
              "  <thead>\n",
              "    <tr style=\"text-align: right;\">\n",
              "      <th></th>\n",
              "      <th>Unnamed: 0</th>\n",
              "      <th>region</th>\n",
              "      <th>country</th>\n",
              "      <th>emissions</th>\n",
              "      <th>type</th>\n",
              "      <th>segment</th>\n",
              "      <th>reason</th>\n",
              "      <th>baseYear</th>\n",
              "      <th>notes</th>\n",
              "    </tr>\n",
              "  </thead>\n",
              "  <tbody>\n",
              "    <tr>\n",
              "      <th>0</th>\n",
              "      <td>0</td>\n",
              "      <td>Africa</td>\n",
              "      <td>Algeria</td>\n",
              "      <td>257.611206</td>\n",
              "      <td>Agriculture</td>\n",
              "      <td>Total</td>\n",
              "      <td>All</td>\n",
              "      <td>2019-2021</td>\n",
              "      <td>Average based on United Nations Framework Conv...</td>\n",
              "    </tr>\n",
              "    <tr>\n",
              "      <th>1</th>\n",
              "      <td>1</td>\n",
              "      <td>Africa</td>\n",
              "      <td>Algeria</td>\n",
              "      <td>0.052000</td>\n",
              "      <td>Energy</td>\n",
              "      <td>Bioenergy</td>\n",
              "      <td>All</td>\n",
              "      <td>2022</td>\n",
              "      <td>Estimates from end-uses are for 2020 or 2021 (...</td>\n",
              "    </tr>\n",
              "    <tr>\n",
              "      <th>2</th>\n",
              "      <td>2</td>\n",
              "      <td>Africa</td>\n",
              "      <td>Algeria</td>\n",
              "      <td>130.798996</td>\n",
              "      <td>Energy</td>\n",
              "      <td>Gas pipelines and LNG facilities</td>\n",
              "      <td>Fugitive</td>\n",
              "      <td>2022</td>\n",
              "      <td>Not available</td>\n",
              "    </tr>\n",
              "    <tr>\n",
              "      <th>3</th>\n",
              "      <td>3</td>\n",
              "      <td>Africa</td>\n",
              "      <td>Algeria</td>\n",
              "      <td>69.741898</td>\n",
              "      <td>Energy</td>\n",
              "      <td>Gas pipelines and LNG facilities</td>\n",
              "      <td>Vented</td>\n",
              "      <td>2022</td>\n",
              "      <td>Not available</td>\n",
              "    </tr>\n",
              "    <tr>\n",
              "      <th>4</th>\n",
              "      <td>4</td>\n",
              "      <td>Africa</td>\n",
              "      <td>Algeria</td>\n",
              "      <td>213.987000</td>\n",
              "      <td>Energy</td>\n",
              "      <td>Onshore gas</td>\n",
              "      <td>Fugitive</td>\n",
              "      <td>2022</td>\n",
              "      <td>Not available</td>\n",
              "    </tr>\n",
              "  </tbody>\n",
              "</table>\n",
              "</div>"
            ],
            "text/plain": [
              "   Unnamed: 0  region  country   emissions         type  \\\n",
              "0           0  Africa  Algeria  257.611206  Agriculture   \n",
              "1           1  Africa  Algeria    0.052000       Energy   \n",
              "2           2  Africa  Algeria  130.798996       Energy   \n",
              "3           3  Africa  Algeria   69.741898       Energy   \n",
              "4           4  Africa  Algeria  213.987000       Energy   \n",
              "\n",
              "                            segment    reason   baseYear  \\\n",
              "0                             Total       All  2019-2021   \n",
              "1                         Bioenergy       All       2022   \n",
              "2  Gas pipelines and LNG facilities  Fugitive       2022   \n",
              "3  Gas pipelines and LNG facilities    Vented       2022   \n",
              "4                       Onshore gas  Fugitive       2022   \n",
              "\n",
              "                                               notes  \n",
              "0  Average based on United Nations Framework Conv...  \n",
              "1  Estimates from end-uses are for 2020 or 2021 (...  \n",
              "2                                      Not available  \n",
              "3                                      Not available  \n",
              "4                                      Not available  "
            ]
          },
          "execution_count": 2,
          "metadata": {},
          "output_type": "execute_result"
        }
      ],
      "source": [
        "df_emissions = pd.read_csv(\"../data/Methane_final.csv\", sep=\",\",header=0)\n",
        "df_emissions.head()"
      ]
    },
    {
      "cell_type": "markdown",
      "metadata": {
        "id": "nFSK5ZMqU_zR"
      },
      "source": [
        "### Bar plot \n",
        "\n",
        "See through a bar plot the amount of emissions for each region and for years, making a bias by year.\n",
        "We define the color palette that we will use in the graphics\n",
        "\n",
        "The region \"Wolrd\" sum the others regions"
      ]
    },
    {
      "cell_type": "code",
      "execution_count": 24,
      "metadata": {
        "id": "-Wl58uprqsea"
      },
      "outputs": [],
      "source": [
        "colors = [\"#49A8C4\", \"#0E3547\", \"#6B6B6B\"]"
      ]
    },
    {
      "cell_type": "code",
      "execution_count": 25,
      "metadata": {
        "colab": {
          "base_uri": "https://localhost:8080/",
          "height": 449
        },
        "id": "KWJw0a5OUOrq",
        "outputId": "1d8996de-6415-4206-93d0-afd8fe817185"
      },
      "outputs": [
        {
          "data": {
            "image/png": "[encoded data removed]",
            "text/plain": [
              "<Figure size 640x480 with 1 Axes>"
            ]
          },
          "metadata": {},
          "output_type": "display_data"
        }
      ],
      "source": [
        "sns.barplot(data = df_emissions, y =\"region\", x =\"emissions\", hue = \"baseYear\", errorbar=None, palette=colors)\n",
        "plt.title(\"Emissions by region and year (kiloton)\")\n",
        "plt.show()"
      ]
    },
    {
      "cell_type": "markdown",
      "metadata": {},
      "source": [
        "### Remove the \"World\" region to evaluate the regions independently\n",
        "La region \"World\" suma el total de regiones, como buena practica debemos evaluar las categorías por separado.\n",
        "\n",
        "* Make a copy of the original data frame so as not to affect the data.\n",
        "* Redefine the new data frame to filter only records that do not have the \"World\" attribute\n",
        "* Graph the bar plot again"
      ]
    },
    {
      "cell_type": "code",
      "execution_count": 5,
      "metadata": {
        "id": "frXzxI3ZhJSm"
      },
      "outputs": [
        {
          "data": {
            "image/png": "[encoded data removed]",
            "text/plain": [
              "<Figure size 640x480 with 1 Axes>"
            ]
          },
          "metadata": {},
          "output_type": "display_data"
        }
      ],
      "source": [
        "df_copy_emissions = df_emissions.copy()\n",
        "df_copy_emissions = df_emissions[~(df_emissions[\"region\"] == \"World\")]\n",
        "\n",
        "sns.barplot(data = df_copy_emissions, y =\"region\", x =\"emissions\", hue=\"baseYear\", errorbar=None, palette=colors)\n",
        "plt.title(\"Emissions by region and year (kiloton)\")\n",
        "plt.show()"
      ]
    },
    {
      "cell_type": "markdown",
      "metadata": {
        "id": "igheDhKVWAdC"
      },
      "source": [
        "### Grouping by region adding total emissions\n",
        "It is observed that the previous graphs are not adding the emissions by regions.\n",
        "\n",
        "* Create the new data frame with only the \"regions\" and \"emissions\" columns\n",
        "* For the seaborn graph to add the data instead of counting it, it is necessary to first group by region, add the values and reset the indices.\n",
        "* Sort the dataframe in ascending order to decrease the cognitive load on the graph\n"
      ]
    },
    {
      "cell_type": "code",
      "execution_count": 8,
      "metadata": {},
      "outputs": [
        {
          "data": {
            "text/html": [
              "<div>\n",
              "<style scoped>\n",
              "    .dataframe tbody tr th:only-of-type {\n",
              "        vertical-align: middle;\n",
              "    }\n",
              "\n",
              "    .dataframe tbody tr th {\n",
              "        vertical-align: top;\n",
              "    }\n",
              "\n",
              "    .dataframe thead th {\n",
              "        text-align: right;\n",
              "    }\n",
              "</style>\n",
              "<table border=\"1\" class=\"dataframe\">\n",
              "  <thead>\n",
              "    <tr style=\"text-align: right;\">\n",
              "      <th></th>\n",
              "      <th>region</th>\n",
              "      <th>emissions</th>\n",
              "    </tr>\n",
              "  </thead>\n",
              "  <tbody>\n",
              "    <tr>\n",
              "      <th>0</th>\n",
              "      <td>Africa</td>\n",
              "      <td>257.611206</td>\n",
              "    </tr>\n",
              "    <tr>\n",
              "      <th>1</th>\n",
              "      <td>Africa</td>\n",
              "      <td>0.052000</td>\n",
              "    </tr>\n",
              "    <tr>\n",
              "      <th>2</th>\n",
              "      <td>Africa</td>\n",
              "      <td>130.798996</td>\n",
              "    </tr>\n",
              "    <tr>\n",
              "      <th>3</th>\n",
              "      <td>Africa</td>\n",
              "      <td>69.741898</td>\n",
              "    </tr>\n",
              "    <tr>\n",
              "      <th>4</th>\n",
              "      <td>Africa</td>\n",
              "      <td>213.987000</td>\n",
              "    </tr>\n",
              "    <tr>\n",
              "      <th>...</th>\n",
              "      <td>...</td>\n",
              "      <td>...</td>\n",
              "    </tr>\n",
              "    <tr>\n",
              "      <th>1521</th>\n",
              "      <td>Russia &amp; Caspian</td>\n",
              "      <td>16.973917</td>\n",
              "    </tr>\n",
              "    <tr>\n",
              "      <th>1522</th>\n",
              "      <td>Russia &amp; Caspian</td>\n",
              "      <td>18.299999</td>\n",
              "    </tr>\n",
              "    <tr>\n",
              "      <th>1523</th>\n",
              "      <td>Russia &amp; Caspian</td>\n",
              "      <td>780.916138</td>\n",
              "    </tr>\n",
              "    <tr>\n",
              "      <th>1524</th>\n",
              "      <td>Russia &amp; Caspian</td>\n",
              "      <td>3.845616</td>\n",
              "    </tr>\n",
              "    <tr>\n",
              "      <th>1525</th>\n",
              "      <td>Russia &amp; Caspian</td>\n",
              "      <td>280.418243</td>\n",
              "    </tr>\n",
              "  </tbody>\n",
              "</table>\n",
              "<p>1526 rows × 2 columns</p>\n",
              "</div>"
            ],
            "text/plain": [
              "                region   emissions\n",
              "0               Africa  257.611206\n",
              "1               Africa    0.052000\n",
              "2               Africa  130.798996\n",
              "3               Africa   69.741898\n",
              "4               Africa  213.987000\n",
              "...                ...         ...\n",
              "1521  Russia & Caspian   16.973917\n",
              "1522  Russia & Caspian   18.299999\n",
              "1523  Russia & Caspian  780.916138\n",
              "1524  Russia & Caspian    3.845616\n",
              "1525  Russia & Caspian  280.418243\n",
              "\n",
              "[1526 rows x 2 columns]"
            ]
          },
          "execution_count": 8,
          "metadata": {},
          "output_type": "execute_result"
        }
      ],
      "source": [
        "columns=[\"region\", \"emissions\"]\n",
        "df_region_by_emmision = df_copy_emissions[columns]\n",
        "df_region_by_emmision\n"
      ]
    },
    {
      "cell_type": "code",
      "execution_count": 9,
      "metadata": {
        "colab": {
          "base_uri": "https://localhost:8080/",
          "height": 300
        },
        "id": "-vpXPZIlTEzV",
        "outputId": "01c5f9d5-97c5-426c-d022-e2f1e1effca3"
      },
      "outputs": [
        {
          "data": {
            "text/plain": [
              "0     54197.152613\n",
              "1    177699.611465\n",
              "2     45639.989799\n",
              "3     49208.996818\n",
              "4     38095.798763\n",
              "5     63347.409177\n",
              "6     15997.357175\n",
              "7     62421.612360\n",
              "Name: emissions, dtype: float64"
            ]
          },
          "execution_count": 9,
          "metadata": {},
          "output_type": "execute_result"
        }
      ],
      "source": [
        "df_region_by_emmision = df_region_by_emmision.groupby(\"region\").sum().reset_index()\n",
        "df_region_by_emmision[\"emissions\"]"
      ]
    },
    {
      "cell_type": "code",
      "execution_count": 12,
      "metadata": {
        "colab": {
          "base_uri": "https://localhost:8080/",
          "height": 449
        },
        "id": "hDbquA7ae_VU",
        "outputId": "1ea72b9b-a6e7-430c-c032-feb4f9a0953c"
      },
      "outputs": [
        {
          "data": {
            "image/png": "[encoded data removed]",
            "text/plain": [
              "<Figure size 640x480 with 1 Axes>"
            ]
          },
          "metadata": {},
          "output_type": "display_data"
        }
      ],
      "source": [
        "df_region_by_emmision = df_region_by_emmision.sort_values(by=\"emissions\", ascending=False)\n",
        "\n",
        "sns.barplot(data = df_region_by_emmision, y =\"region\", x =\"emissions\", errorbar=None, color = colors[0])\n",
        "plt.ylabel(\"Region\")\n",
        "plt.xlabel(\"Emissions\")\n",
        "plt.title(\"Emissions by region and year (kiloton)\", fontweight=\"bold\")\n",
        "plt.show()"
      ]
    },
    {
      "cell_type": "markdown",
      "metadata": {
        "id": "f6qqO_TxH3gk"
      },
      "source": [
        "### Question: \n",
        "#### What is the relationship between methane emissions and population by region?\n",
        "\n",
        "* Reset the indices for continuous values\n"
      ]
    },
    {
      "cell_type": "code",
      "execution_count": 13,
      "metadata": {},
      "outputs": [
        {
          "data": {
            "text/html": [
              "<div>\n",
              "<style scoped>\n",
              "    .dataframe tbody tr th:only-of-type {\n",
              "        vertical-align: middle;\n",
              "    }\n",
              "\n",
              "    .dataframe tbody tr th {\n",
              "        vertical-align: top;\n",
              "    }\n",
              "\n",
              "    .dataframe thead th {\n",
              "        text-align: right;\n",
              "    }\n",
              "</style>\n",
              "<table border=\"1\" class=\"dataframe\">\n",
              "  <thead>\n",
              "    <tr style=\"text-align: right;\">\n",
              "      <th></th>\n",
              "      <th>region</th>\n",
              "      <th>emissions</th>\n",
              "    </tr>\n",
              "  </thead>\n",
              "  <tbody>\n",
              "    <tr>\n",
              "      <th>0</th>\n",
              "      <td>Asia Pacific</td>\n",
              "      <td>177699.611465</td>\n",
              "    </tr>\n",
              "    <tr>\n",
              "      <th>1</th>\n",
              "      <td>North America</td>\n",
              "      <td>63347.409177</td>\n",
              "    </tr>\n",
              "    <tr>\n",
              "      <th>2</th>\n",
              "      <td>Russia &amp; Caspian</td>\n",
              "      <td>62421.612360</td>\n",
              "    </tr>\n",
              "    <tr>\n",
              "      <th>3</th>\n",
              "      <td>Africa</td>\n",
              "      <td>54197.152613</td>\n",
              "    </tr>\n",
              "    <tr>\n",
              "      <th>4</th>\n",
              "      <td>Europe</td>\n",
              "      <td>49208.996818</td>\n",
              "    </tr>\n",
              "    <tr>\n",
              "      <th>5</th>\n",
              "      <td>Central and South America</td>\n",
              "      <td>45639.989799</td>\n",
              "    </tr>\n",
              "    <tr>\n",
              "      <th>6</th>\n",
              "      <td>Middle East</td>\n",
              "      <td>38095.798763</td>\n",
              "    </tr>\n",
              "    <tr>\n",
              "      <th>7</th>\n",
              "      <td>Other</td>\n",
              "      <td>15997.357175</td>\n",
              "    </tr>\n",
              "  </tbody>\n",
              "</table>\n",
              "</div>"
            ],
            "text/plain": [
              "                      region      emissions\n",
              "0               Asia Pacific  177699.611465\n",
              "1              North America   63347.409177\n",
              "2           Russia & Caspian   62421.612360\n",
              "3                     Africa   54197.152613\n",
              "4                     Europe   49208.996818\n",
              "5  Central and South America   45639.989799\n",
              "6                Middle East   38095.798763\n",
              "7                      Other   15997.357175"
            ]
          },
          "execution_count": 13,
          "metadata": {},
          "output_type": "execute_result"
        }
      ],
      "source": [
        "df_region_by_emmision = df_region_by_emmision.reset_index(drop=True)\n",
        "df_region_by_emmision"
      ]
    },
    {
      "cell_type": "markdown",
      "metadata": {
        "id": "dtCGpJLEXeBS"
      },
      "source": [
        "* Region \"Other\" eliminated due to lack of information:"
      ]
    },
    {
      "cell_type": "code",
      "execution_count": 14,
      "metadata": {
        "id": "hsn-ImrDNeWS"
      },
      "outputs": [
        {
          "data": {
            "text/html": [
              "<div>\n",
              "<style scoped>\n",
              "    .dataframe tbody tr th:only-of-type {\n",
              "        vertical-align: middle;\n",
              "    }\n",
              "\n",
              "    .dataframe tbody tr th {\n",
              "        vertical-align: top;\n",
              "    }\n",
              "\n",
              "    .dataframe thead th {\n",
              "        text-align: right;\n",
              "    }\n",
              "</style>\n",
              "<table border=\"1\" class=\"dataframe\">\n",
              "  <thead>\n",
              "    <tr style=\"text-align: right;\">\n",
              "      <th></th>\n",
              "      <th>region</th>\n",
              "      <th>emissions</th>\n",
              "    </tr>\n",
              "  </thead>\n",
              "  <tbody>\n",
              "    <tr>\n",
              "      <th>0</th>\n",
              "      <td>Asia Pacific</td>\n",
              "      <td>177699.611465</td>\n",
              "    </tr>\n",
              "    <tr>\n",
              "      <th>1</th>\n",
              "      <td>North America</td>\n",
              "      <td>63347.409177</td>\n",
              "    </tr>\n",
              "    <tr>\n",
              "      <th>2</th>\n",
              "      <td>Russia &amp; Caspian</td>\n",
              "      <td>62421.612360</td>\n",
              "    </tr>\n",
              "    <tr>\n",
              "      <th>3</th>\n",
              "      <td>Africa</td>\n",
              "      <td>54197.152613</td>\n",
              "    </tr>\n",
              "    <tr>\n",
              "      <th>4</th>\n",
              "      <td>Europe</td>\n",
              "      <td>49208.996818</td>\n",
              "    </tr>\n",
              "    <tr>\n",
              "      <th>5</th>\n",
              "      <td>Central and South America</td>\n",
              "      <td>45639.989799</td>\n",
              "    </tr>\n",
              "    <tr>\n",
              "      <th>6</th>\n",
              "      <td>Middle East</td>\n",
              "      <td>38095.798763</td>\n",
              "    </tr>\n",
              "  </tbody>\n",
              "</table>\n",
              "</div>"
            ],
            "text/plain": [
              "                      region      emissions\n",
              "0               Asia Pacific  177699.611465\n",
              "1              North America   63347.409177\n",
              "2           Russia & Caspian   62421.612360\n",
              "3                     Africa   54197.152613\n",
              "4                     Europe   49208.996818\n",
              "5  Central and South America   45639.989799\n",
              "6                Middle East   38095.798763"
            ]
          },
          "execution_count": 14,
          "metadata": {},
          "output_type": "execute_result"
        }
      ],
      "source": [
        "df_region_by_emmision.drop(7, axis=0, inplace=True)\n",
        "df_region_by_emmision"
      ]
    },
    {
      "cell_type": "markdown",
      "metadata": {
        "id": "XzL4JjN0W-1h"
      },
      "source": [
        "* In the Data frame there is no attribute related to the population, for this a new column is created with the population of each region."
      ]
    },
    {
      "cell_type": "code",
      "execution_count": 15,
      "metadata": {
        "id": "gWFhlSz0KJC3"
      },
      "outputs": [
        {
          "data": {
            "text/html": [
              "<div>\n",
              "<style scoped>\n",
              "    .dataframe tbody tr th:only-of-type {\n",
              "        vertical-align: middle;\n",
              "    }\n",
              "\n",
              "    .dataframe tbody tr th {\n",
              "        vertical-align: top;\n",
              "    }\n",
              "\n",
              "    .dataframe thead th {\n",
              "        text-align: right;\n",
              "    }\n",
              "</style>\n",
              "<table border=\"1\" class=\"dataframe\">\n",
              "  <thead>\n",
              "    <tr style=\"text-align: right;\">\n",
              "      <th></th>\n",
              "      <th>region</th>\n",
              "      <th>emissions</th>\n",
              "      <th>population</th>\n",
              "    </tr>\n",
              "  </thead>\n",
              "  <tbody>\n",
              "    <tr>\n",
              "      <th>0</th>\n",
              "      <td>Asia Pacific</td>\n",
              "      <td>177699.611465</td>\n",
              "      <td>4300</td>\n",
              "    </tr>\n",
              "    <tr>\n",
              "      <th>1</th>\n",
              "      <td>North America</td>\n",
              "      <td>63347.409177</td>\n",
              "      <td>579</td>\n",
              "    </tr>\n",
              "    <tr>\n",
              "      <th>2</th>\n",
              "      <td>Russia &amp; Caspian</td>\n",
              "      <td>62421.612360</td>\n",
              "      <td>193</td>\n",
              "    </tr>\n",
              "    <tr>\n",
              "      <th>3</th>\n",
              "      <td>Africa</td>\n",
              "      <td>54197.152613</td>\n",
              "      <td>1216</td>\n",
              "    </tr>\n",
              "    <tr>\n",
              "      <th>4</th>\n",
              "      <td>Europe</td>\n",
              "      <td>49208.996818</td>\n",
              "      <td>746</td>\n",
              "    </tr>\n",
              "    <tr>\n",
              "      <th>5</th>\n",
              "      <td>Central and South America</td>\n",
              "      <td>45639.989799</td>\n",
              "      <td>669</td>\n",
              "    </tr>\n",
              "    <tr>\n",
              "      <th>6</th>\n",
              "      <td>Middle East</td>\n",
              "      <td>38095.798763</td>\n",
              "      <td>411</td>\n",
              "    </tr>\n",
              "  </tbody>\n",
              "</table>\n",
              "</div>"
            ],
            "text/plain": [
              "                      region      emissions  population\n",
              "0               Asia Pacific  177699.611465        4300\n",
              "1              North America   63347.409177         579\n",
              "2           Russia & Caspian   62421.612360         193\n",
              "3                     Africa   54197.152613        1216\n",
              "4                     Europe   49208.996818         746\n",
              "5  Central and South America   45639.989799         669\n",
              "6                Middle East   38095.798763         411"
            ]
          },
          "execution_count": 15,
          "metadata": {},
          "output_type": "execute_result"
        }
      ],
      "source": [
        "population_region = np.array([4300,579,193,1216,746,669,411])\n",
        "df_region_by_emmision[\"population\"]= population_region\n",
        "df_region_by_emmision"
      ]
    },
    {
      "cell_type": "markdown",
      "metadata": {
        "id": "0U9KESVFYIw6"
      },
      "source": [
        "* Adding the \"relation e/p\" column (relation between emissions and populations), using a lambda functionn\n"
      ]
    },
    {
      "cell_type": "code",
      "execution_count": 16,
      "metadata": {
        "id": "w4vqnmzBLrf8"
      },
      "outputs": [
        {
          "data": {
            "text/plain": [
              "0     41.0\n",
              "1    109.0\n",
              "2    323.0\n",
              "3     45.0\n",
              "4     66.0\n",
              "5     68.0\n",
              "6     93.0\n",
              "Name: relation e/p, dtype: float64"
            ]
          },
          "execution_count": 16,
          "metadata": {},
          "output_type": "execute_result"
        }
      ],
      "source": [
        "df_region_by_emmision[\"relation e/p\"] = df_region_by_emmision.apply(lambda x: round(x[\"emissions\"] / x[\"population\"], 0), axis=1)\n",
        "df_region_by_emmision[\"relation e/p\"] "
      ]
    },
    {
      "cell_type": "code",
      "execution_count": 17,
      "metadata": {
        "colab": {
          "base_uri": "https://localhost:8080/",
          "height": 507
        },
        "id": "K8HBVfSgLGpy",
        "outputId": "cc247f6b-cc85-4a2a-dc81-16c65f691f70"
      },
      "outputs": [
        {
          "data": {
            "image/png": "[encoded data removed]",
            "text/plain": [
              "<Figure size 585.25x500 with 1 Axes>"
            ]
          },
          "metadata": {},
          "output_type": "display_data"
        }
      ],
      "source": [
        "import warnings\n",
        "warnings.filterwarnings(\"ignore\")\n",
        "\n",
        "sns.relplot(data=df_region_by_emmision, x=\"relation e/p\",y=\"region\", size=\"population\", color = colors[0])\n",
        "plt.ylabel(\"Region\")\n",
        "plt.xlabel(\"Relation e/p\")\n",
        "plt.title(\"Relationship between emissions and population by region\", fontweight=\"bold\")\n",
        "plt.tight_layout()\n",
        "plt.show();"
      ]
    },
    {
      "cell_type": "markdown",
      "metadata": {
        "id": "5fG7i4lfYP6B"
      },
      "source": [
        "#### *Description insights:*\n",
        "\n",
        "\n",
        "* The region with the highest methane emissions per inhabitant is Russia and the Caspian Sea and the lowest is Africa.\n",
        "* There is an indirect relationship between the amount of population and the amount of emissions per inhabitant.\n",
        "* Use sns.relplot() to create scatterplots with \"relation e/p\" and \"region\", with a segmentation by \"population\"\n",
        "___"
      ]
    },
    {
      "cell_type": "markdown",
      "metadata": {
        "id": "kMQ-xiAVmdyX"
      },
      "source": [
        "### Question: \n",
        "#### Which productive sector generates more methane?\n",
        "* Create the new data frame with only the \"regions\", \"emissions\" and \"type\" columns"
      ]
    },
    {
      "cell_type": "code",
      "execution_count": 18,
      "metadata": {},
      "outputs": [
        {
          "data": {
            "text/html": [
              "<div>\n",
              "<style scoped>\n",
              "    .dataframe tbody tr th:only-of-type {\n",
              "        vertical-align: middle;\n",
              "    }\n",
              "\n",
              "    .dataframe tbody tr th {\n",
              "        vertical-align: top;\n",
              "    }\n",
              "\n",
              "    .dataframe thead th {\n",
              "        text-align: right;\n",
              "    }\n",
              "</style>\n",
              "<table border=\"1\" class=\"dataframe\">\n",
              "  <thead>\n",
              "    <tr style=\"text-align: right;\">\n",
              "      <th></th>\n",
              "      <th>region</th>\n",
              "      <th>emissions</th>\n",
              "      <th>type</th>\n",
              "    </tr>\n",
              "  </thead>\n",
              "  <tbody>\n",
              "    <tr>\n",
              "      <th>0</th>\n",
              "      <td>Africa</td>\n",
              "      <td>257.611206</td>\n",
              "      <td>Agriculture</td>\n",
              "    </tr>\n",
              "    <tr>\n",
              "      <th>1</th>\n",
              "      <td>Africa</td>\n",
              "      <td>0.052000</td>\n",
              "      <td>Energy</td>\n",
              "    </tr>\n",
              "    <tr>\n",
              "      <th>2</th>\n",
              "      <td>Africa</td>\n",
              "      <td>130.798996</td>\n",
              "      <td>Energy</td>\n",
              "    </tr>\n",
              "    <tr>\n",
              "      <th>3</th>\n",
              "      <td>Africa</td>\n",
              "      <td>69.741898</td>\n",
              "      <td>Energy</td>\n",
              "    </tr>\n",
              "    <tr>\n",
              "      <th>4</th>\n",
              "      <td>Africa</td>\n",
              "      <td>213.987000</td>\n",
              "      <td>Energy</td>\n",
              "    </tr>\n",
              "    <tr>\n",
              "      <th>...</th>\n",
              "      <td>...</td>\n",
              "      <td>...</td>\n",
              "      <td>...</td>\n",
              "    </tr>\n",
              "    <tr>\n",
              "      <th>1521</th>\n",
              "      <td>Russia &amp; Caspian</td>\n",
              "      <td>16.973917</td>\n",
              "      <td>Energy</td>\n",
              "    </tr>\n",
              "    <tr>\n",
              "      <th>1522</th>\n",
              "      <td>Russia &amp; Caspian</td>\n",
              "      <td>18.299999</td>\n",
              "      <td>Energy</td>\n",
              "    </tr>\n",
              "    <tr>\n",
              "      <th>1523</th>\n",
              "      <td>Russia &amp; Caspian</td>\n",
              "      <td>780.916138</td>\n",
              "      <td>Energy</td>\n",
              "    </tr>\n",
              "    <tr>\n",
              "      <th>1524</th>\n",
              "      <td>Russia &amp; Caspian</td>\n",
              "      <td>3.845616</td>\n",
              "      <td>Other</td>\n",
              "    </tr>\n",
              "    <tr>\n",
              "      <th>1525</th>\n",
              "      <td>Russia &amp; Caspian</td>\n",
              "      <td>280.418243</td>\n",
              "      <td>Waste</td>\n",
              "    </tr>\n",
              "  </tbody>\n",
              "</table>\n",
              "<p>1526 rows × 3 columns</p>\n",
              "</div>"
            ],
            "text/plain": [
              "                region   emissions         type\n",
              "0               Africa  257.611206  Agriculture\n",
              "1               Africa    0.052000       Energy\n",
              "2               Africa  130.798996       Energy\n",
              "3               Africa   69.741898       Energy\n",
              "4               Africa  213.987000       Energy\n",
              "...                ...         ...          ...\n",
              "1521  Russia & Caspian   16.973917       Energy\n",
              "1522  Russia & Caspian   18.299999       Energy\n",
              "1523  Russia & Caspian  780.916138       Energy\n",
              "1524  Russia & Caspian    3.845616        Other\n",
              "1525  Russia & Caspian  280.418243        Waste\n",
              "\n",
              "[1526 rows x 3 columns]"
            ]
          },
          "execution_count": 18,
          "metadata": {},
          "output_type": "execute_result"
        }
      ],
      "source": [
        "columns_segment=[\"region\", \"emissions\", \"type\"]\n",
        "df_region_emmision_type = df_copy_emissions[columns_segment]\n",
        "df_region_emmision_type"
      ]
    },
    {
      "cell_type": "markdown",
      "metadata": {},
      "source": [
        "* Group by \"region\" and \"type\" to sum emissions and sort in ascending order"
      ]
    },
    {
      "cell_type": "code",
      "execution_count": 19,
      "metadata": {
        "colab": {
          "base_uri": "https://localhost:8080/",
          "height": 206
        },
        "id": "9BvHcPujlH8G",
        "outputId": "89bf0c4c-f556-4580-b91a-d1424b173d52"
      },
      "outputs": [
        {
          "data": {
            "text/html": [
              "<div>\n",
              "<style scoped>\n",
              "    .dataframe tbody tr th:only-of-type {\n",
              "        vertical-align: middle;\n",
              "    }\n",
              "\n",
              "    .dataframe tbody tr th {\n",
              "        vertical-align: top;\n",
              "    }\n",
              "\n",
              "    .dataframe thead th {\n",
              "        text-align: right;\n",
              "    }\n",
              "</style>\n",
              "<table border=\"1\" class=\"dataframe\">\n",
              "  <thead>\n",
              "    <tr style=\"text-align: right;\">\n",
              "      <th></th>\n",
              "      <th>region</th>\n",
              "      <th>type</th>\n",
              "      <th>emissions</th>\n",
              "    </tr>\n",
              "  </thead>\n",
              "  <tbody>\n",
              "    <tr>\n",
              "      <th>5</th>\n",
              "      <td>Asia Pacific</td>\n",
              "      <td>Energy</td>\n",
              "      <td>83240.171487</td>\n",
              "    </tr>\n",
              "    <tr>\n",
              "      <th>4</th>\n",
              "      <td>Asia Pacific</td>\n",
              "      <td>Agriculture</td>\n",
              "      <td>63241.493486</td>\n",
              "    </tr>\n",
              "    <tr>\n",
              "      <th>29</th>\n",
              "      <td>Russia &amp; Caspian</td>\n",
              "      <td>Energy</td>\n",
              "      <td>53325.714394</td>\n",
              "    </tr>\n",
              "    <tr>\n",
              "      <th>21</th>\n",
              "      <td>North America</td>\n",
              "      <td>Energy</td>\n",
              "      <td>41798.716642</td>\n",
              "    </tr>\n",
              "    <tr>\n",
              "      <th>17</th>\n",
              "      <td>Middle East</td>\n",
              "      <td>Energy</td>\n",
              "      <td>32540.824141</td>\n",
              "    </tr>\n",
              "  </tbody>\n",
              "</table>\n",
              "</div>"
            ],
            "text/plain": [
              "              region         type     emissions\n",
              "5       Asia Pacific       Energy  83240.171487\n",
              "4       Asia Pacific  Agriculture  63241.493486\n",
              "29  Russia & Caspian       Energy  53325.714394\n",
              "21     North America       Energy  41798.716642\n",
              "17       Middle East       Energy  32540.824141"
            ]
          },
          "execution_count": 19,
          "metadata": {},
          "output_type": "execute_result"
        }
      ],
      "source": [
        "df_region_emmision_type = df_region_emmision_type.groupby([\"region\",\"type\"]).sum().reset_index().sort_values(by=\"emissions\", ascending=False)\n",
        "df_region_emmision_type.head()"
      ]
    },
    {
      "cell_type": "markdown",
      "metadata": {},
      "source": [
        "* Discard the \"Orther\" category for \"region\" and \"type\" due to lack of information"
      ]
    },
    {
      "cell_type": "code",
      "execution_count": 20,
      "metadata": {},
      "outputs": [
        {
          "data": {
            "text/html": [
              "<div>\n",
              "<style scoped>\n",
              "    .dataframe tbody tr th:only-of-type {\n",
              "        vertical-align: middle;\n",
              "    }\n",
              "\n",
              "    .dataframe tbody tr th {\n",
              "        vertical-align: top;\n",
              "    }\n",
              "\n",
              "    .dataframe thead th {\n",
              "        text-align: right;\n",
              "    }\n",
              "</style>\n",
              "<table border=\"1\" class=\"dataframe\">\n",
              "  <thead>\n",
              "    <tr style=\"text-align: right;\">\n",
              "      <th></th>\n",
              "      <th>region</th>\n",
              "      <th>type</th>\n",
              "      <th>emissions</th>\n",
              "    </tr>\n",
              "  </thead>\n",
              "  <tbody>\n",
              "    <tr>\n",
              "      <th>5</th>\n",
              "      <td>Asia Pacific</td>\n",
              "      <td>Energy</td>\n",
              "      <td>83240.171487</td>\n",
              "    </tr>\n",
              "    <tr>\n",
              "      <th>4</th>\n",
              "      <td>Asia Pacific</td>\n",
              "      <td>Agriculture</td>\n",
              "      <td>63241.493486</td>\n",
              "    </tr>\n",
              "    <tr>\n",
              "      <th>29</th>\n",
              "      <td>Russia &amp; Caspian</td>\n",
              "      <td>Energy</td>\n",
              "      <td>53325.714394</td>\n",
              "    </tr>\n",
              "    <tr>\n",
              "      <th>21</th>\n",
              "      <td>North America</td>\n",
              "      <td>Energy</td>\n",
              "      <td>41798.716642</td>\n",
              "    </tr>\n",
              "    <tr>\n",
              "      <th>17</th>\n",
              "      <td>Middle East</td>\n",
              "      <td>Energy</td>\n",
              "      <td>32540.824141</td>\n",
              "    </tr>\n",
              "    <tr>\n",
              "      <th>7</th>\n",
              "      <td>Asia Pacific</td>\n",
              "      <td>Waste</td>\n",
              "      <td>27273.937113</td>\n",
              "    </tr>\n",
              "    <tr>\n",
              "      <th>1</th>\n",
              "      <td>Africa</td>\n",
              "      <td>Energy</td>\n",
              "      <td>26535.878049</td>\n",
              "    </tr>\n",
              "    <tr>\n",
              "      <th>8</th>\n",
              "      <td>Central and South America</td>\n",
              "      <td>Agriculture</td>\n",
              "      <td>23573.521675</td>\n",
              "    </tr>\n",
              "    <tr>\n",
              "      <th>12</th>\n",
              "      <td>Europe</td>\n",
              "      <td>Agriculture</td>\n",
              "      <td>21201.239498</td>\n",
              "    </tr>\n",
              "    <tr>\n",
              "      <th>0</th>\n",
              "      <td>Africa</td>\n",
              "      <td>Agriculture</td>\n",
              "      <td>16892.979230</td>\n",
              "    </tr>\n",
              "    <tr>\n",
              "      <th>9</th>\n",
              "      <td>Central and South America</td>\n",
              "      <td>Energy</td>\n",
              "      <td>14646.325498</td>\n",
              "    </tr>\n",
              "    <tr>\n",
              "      <th>13</th>\n",
              "      <td>Europe</td>\n",
              "      <td>Energy</td>\n",
              "      <td>13764.954999</td>\n",
              "    </tr>\n",
              "    <tr>\n",
              "      <th>15</th>\n",
              "      <td>Europe</td>\n",
              "      <td>Waste</td>\n",
              "      <td>13387.605371</td>\n",
              "    </tr>\n",
              "    <tr>\n",
              "      <th>20</th>\n",
              "      <td>North America</td>\n",
              "      <td>Agriculture</td>\n",
              "      <td>12902.826904</td>\n",
              "    </tr>\n",
              "    <tr>\n",
              "      <th>3</th>\n",
              "      <td>Africa</td>\n",
              "      <td>Waste</td>\n",
              "      <td>8023.879531</td>\n",
              "    </tr>\n",
              "    <tr>\n",
              "      <th>23</th>\n",
              "      <td>North America</td>\n",
              "      <td>Waste</td>\n",
              "      <td>8010.520935</td>\n",
              "    </tr>\n",
              "    <tr>\n",
              "      <th>11</th>\n",
              "      <td>Central and South America</td>\n",
              "      <td>Waste</td>\n",
              "      <td>6691.550935</td>\n",
              "    </tr>\n",
              "    <tr>\n",
              "      <th>31</th>\n",
              "      <td>Russia &amp; Caspian</td>\n",
              "      <td>Waste</td>\n",
              "      <td>4562.902485</td>\n",
              "    </tr>\n",
              "    <tr>\n",
              "      <th>28</th>\n",
              "      <td>Russia &amp; Caspian</td>\n",
              "      <td>Agriculture</td>\n",
              "      <td>4185.945938</td>\n",
              "    </tr>\n",
              "    <tr>\n",
              "      <th>19</th>\n",
              "      <td>Middle East</td>\n",
              "      <td>Waste</td>\n",
              "      <td>3914.815521</td>\n",
              "    </tr>\n",
              "    <tr>\n",
              "      <th>16</th>\n",
              "      <td>Middle East</td>\n",
              "      <td>Agriculture</td>\n",
              "      <td>1548.082252</td>\n",
              "    </tr>\n",
              "  </tbody>\n",
              "</table>\n",
              "</div>"
            ],
            "text/plain": [
              "                       region         type     emissions\n",
              "5                Asia Pacific       Energy  83240.171487\n",
              "4                Asia Pacific  Agriculture  63241.493486\n",
              "29           Russia & Caspian       Energy  53325.714394\n",
              "21              North America       Energy  41798.716642\n",
              "17                Middle East       Energy  32540.824141\n",
              "7                Asia Pacific        Waste  27273.937113\n",
              "1                      Africa       Energy  26535.878049\n",
              "8   Central and South America  Agriculture  23573.521675\n",
              "12                     Europe  Agriculture  21201.239498\n",
              "0                      Africa  Agriculture  16892.979230\n",
              "9   Central and South America       Energy  14646.325498\n",
              "13                     Europe       Energy  13764.954999\n",
              "15                     Europe        Waste  13387.605371\n",
              "20              North America  Agriculture  12902.826904\n",
              "3                      Africa        Waste   8023.879531\n",
              "23              North America        Waste   8010.520935\n",
              "11  Central and South America        Waste   6691.550935\n",
              "31           Russia & Caspian        Waste   4562.902485\n",
              "28           Russia & Caspian  Agriculture   4185.945938\n",
              "19                Middle East        Waste   3914.815521\n",
              "16                Middle East  Agriculture   1548.082252"
            ]
          },
          "execution_count": 20,
          "metadata": {},
          "output_type": "execute_result"
        }
      ],
      "source": [
        "df_region_emmision_type = df_region_emmision_type[~(df_region_emmision_type[\"type\"] == \"Other\") & ~(df_region_emmision_type[\"region\"] == \"Other\")]\n",
        "df_region_emmision_type"
      ]
    },
    {
      "cell_type": "code",
      "execution_count": 28,
      "metadata": {
        "colab": {
          "base_uri": "https://localhost:8080/",
          "height": 449
        },
        "id": "LZW63T07hI7B",
        "outputId": "75db4700-fea0-4fc1-c93d-0f566c805d8f"
      },
      "outputs": [
        {
          "data": {
            "image/png": "[encoded data removed]",
            "text/plain": [
              "<Figure size 640x480 with 1 Axes>"
            ]
          },
          "metadata": {},
          "output_type": "display_data"
        }
      ],
      "source": [
        "sns.barplot(data=df_region_emmision_type, y=\"region\", x=\"emissions\", hue=\"type\", palette=colors)\n",
        "plt.ylabel(\"Emissions\")\n",
        "plt.xlabel(\"Type\")\n",
        "plt.title(\"Emissions by productive sector and region\", fontweight=\"bold\")\n",
        "plt.show()"
      ]
    },
    {
      "cell_type": "markdown",
      "metadata": {},
      "source": [
        "#### *Description insights:*\n",
        "* The productive sector with the highest emissions is the energy sector in most regions followed by agriculture.\n",
        "* The Central and South America and Europe Regions emit more emissions from agriculture\n",
        "___\n"
      ]
    },
    {
      "cell_type": "markdown",
      "metadata": {
        "id": "TaLMRjqze2fx"
      },
      "source": [
        "### Emissions by world powers\n",
        "\n",
        "* Create the data frame with the columns \"country\" and \"emissions\"\n",
        "* Group by \"country\", and sort by \"emisions\" in ascending order"
      ]
    },
    {
      "cell_type": "code",
      "execution_count": 30,
      "metadata": {},
      "outputs": [
        {
          "data": {
            "text/html": [
              "<div>\n",
              "<style scoped>\n",
              "    .dataframe tbody tr th:only-of-type {\n",
              "        vertical-align: middle;\n",
              "    }\n",
              "\n",
              "    .dataframe tbody tr th {\n",
              "        vertical-align: top;\n",
              "    }\n",
              "\n",
              "    .dataframe thead th {\n",
              "        text-align: right;\n",
              "    }\n",
              "</style>\n",
              "<table border=\"1\" class=\"dataframe\">\n",
              "  <thead>\n",
              "    <tr style=\"text-align: right;\">\n",
              "      <th></th>\n",
              "      <th>country</th>\n",
              "      <th>emissions</th>\n",
              "    </tr>\n",
              "  </thead>\n",
              "  <tbody>\n",
              "    <tr>\n",
              "      <th>16</th>\n",
              "      <td>China</td>\n",
              "      <td>81048.371586</td>\n",
              "    </tr>\n",
              "    <tr>\n",
              "      <th>98</th>\n",
              "      <td>United States</td>\n",
              "      <td>48604.877296</td>\n",
              "    </tr>\n",
              "    <tr>\n",
              "      <th>77</th>\n",
              "      <td>Russia</td>\n",
              "      <td>42432.929804</td>\n",
              "    </tr>\n",
              "    <tr>\n",
              "      <th>38</th>\n",
              "      <td>India</td>\n",
              "      <td>34852.007386</td>\n",
              "    </tr>\n",
              "    <tr>\n",
              "      <th>10</th>\n",
              "      <td>Brazil</td>\n",
              "      <td>21720.838126</td>\n",
              "    </tr>\n",
              "  </tbody>\n",
              "</table>\n",
              "</div>"
            ],
            "text/plain": [
              "          country     emissions\n",
              "16          China  81048.371586\n",
              "98  United States  48604.877296\n",
              "77         Russia  42432.929804\n",
              "38          India  34852.007386\n",
              "10         Brazil  21720.838126"
            ]
          },
          "execution_count": 30,
          "metadata": {},
          "output_type": "execute_result"
        }
      ],
      "source": [
        "columns_world_powers=[\"country\", \"emissions\"]\n",
        "df_world_powers = df_copy_emissions[columns_world_powers]\n",
        "df_world_powers = df_world_powers.groupby([\"country\"]).sum().reset_index().sort_values(by=\"emissions\", ascending=False)\n",
        "df_world_powers.head()"
      ]
    },
    {
      "cell_type": "markdown",
      "metadata": {},
      "source": [
        "*   Creat the list \"world_powers\"\n",
        "*   Filter the data by matches from the \"world_powers\" list"
      ]
    },
    {
      "cell_type": "code",
      "execution_count": 31,
      "metadata": {
        "id": "7hxjn6eqe4N4"
      },
      "outputs": [
        {
          "data": {
            "text/html": [
              "<div>\n",
              "<style scoped>\n",
              "    .dataframe tbody tr th:only-of-type {\n",
              "        vertical-align: middle;\n",
              "    }\n",
              "\n",
              "    .dataframe tbody tr th {\n",
              "        vertical-align: top;\n",
              "    }\n",
              "\n",
              "    .dataframe thead th {\n",
              "        text-align: right;\n",
              "    }\n",
              "</style>\n",
              "<table border=\"1\" class=\"dataframe\">\n",
              "  <thead>\n",
              "    <tr style=\"text-align: right;\">\n",
              "      <th></th>\n",
              "      <th>country</th>\n",
              "      <th>emissions</th>\n",
              "    </tr>\n",
              "  </thead>\n",
              "  <tbody>\n",
              "    <tr>\n",
              "      <th>16</th>\n",
              "      <td>China</td>\n",
              "      <td>81048.371586</td>\n",
              "    </tr>\n",
              "    <tr>\n",
              "      <th>98</th>\n",
              "      <td>United States</td>\n",
              "      <td>48604.877296</td>\n",
              "    </tr>\n",
              "    <tr>\n",
              "      <th>77</th>\n",
              "      <td>Russia</td>\n",
              "      <td>42432.929804</td>\n",
              "    </tr>\n",
              "    <tr>\n",
              "      <th>78</th>\n",
              "      <td>Saudi Arabia</td>\n",
              "      <td>7206.823957</td>\n",
              "    </tr>\n",
              "    <tr>\n",
              "      <th>96</th>\n",
              "      <td>United Arab Emirates</td>\n",
              "      <td>3391.336533</td>\n",
              "    </tr>\n",
              "    <tr>\n",
              "      <th>97</th>\n",
              "      <td>United Kingdom</td>\n",
              "      <td>2791.774137</td>\n",
              "    </tr>\n",
              "    <tr>\n",
              "      <th>33</th>\n",
              "      <td>Germany</td>\n",
              "      <td>2648.582686</td>\n",
              "    </tr>\n",
              "    <tr>\n",
              "      <th>30</th>\n",
              "      <td>France</td>\n",
              "      <td>2622.229239</td>\n",
              "    </tr>\n",
              "    <tr>\n",
              "      <th>44</th>\n",
              "      <td>Japan</td>\n",
              "      <td>1823.469380</td>\n",
              "    </tr>\n",
              "    <tr>\n",
              "      <th>42</th>\n",
              "      <td>Israel</td>\n",
              "      <td>409.388339</td>\n",
              "    </tr>\n",
              "  </tbody>\n",
              "</table>\n",
              "</div>"
            ],
            "text/plain": [
              "                 country     emissions\n",
              "16                 China  81048.371586\n",
              "98         United States  48604.877296\n",
              "77                Russia  42432.929804\n",
              "78          Saudi Arabia   7206.823957\n",
              "96  United Arab Emirates   3391.336533\n",
              "97        United Kingdom   2791.774137\n",
              "33               Germany   2648.582686\n",
              "30                France   2622.229239\n",
              "44                 Japan   1823.469380\n",
              "42                Israel    409.388339"
            ]
          },
          "execution_count": 31,
          "metadata": {},
          "output_type": "execute_result"
        }
      ],
      "source": [
        "world_powers=[\"United States\", \"Russia\", \"China\", \"Germany\", \"United Kingdom\", \"France\", \"Japan\", \"Israel\", \"Saudi Arabia\", \"United Arab Emirates\"]\n",
        "df_world_powers = df_world_powers[df_world_powers[\"country\"].str.contains('|'.join(world_powers), case=False)].sort_values(by=\"emissions\", ascending=False)\n",
        "df_world_powers"
      ]
    },
    {
      "cell_type": "code",
      "execution_count": 32,
      "metadata": {
        "colab": {
          "base_uri": "https://localhost:8080/",
          "height": 449
        },
        "id": "W_dtMmc8kJnx",
        "outputId": "e8ebf627-834e-4a92-c648-b1face6459a7"
      },
      "outputs": [
        {
          "data": {
            "image/png": "[encoded data removed]",
            "text/plain": [
              "<Figure size 640x480 with 1 Axes>"
            ]
          },
          "metadata": {},
          "output_type": "display_data"
        }
      ],
      "source": [
        "sns.barplot(data=df_world_powers, x=\"emissions\", y=\"country\", errorbar=None, color = colors[0])\n",
        "plt.xlabel(\"Emissions\")\n",
        "plt.ylabel(\"Country\")\n",
        "plt.title(\"Emissions of world powers\", fontweight=\"bold\")\n",
        "plt.show()"
      ]
    },
    {
      "cell_type": "markdown",
      "metadata": {
        "id": "k1CVNEp5ps3K"
      },
      "source": [
        "#### Comparison of emissions of the three great world powers by sector\n",
        "* Create the data frame with the columns \"country\", \"emissions\" and \"segment\"\n"
      ]
    },
    {
      "cell_type": "code",
      "execution_count": 33,
      "metadata": {},
      "outputs": [
        {
          "data": {
            "text/html": [
              "<div>\n",
              "<style scoped>\n",
              "    .dataframe tbody tr th:only-of-type {\n",
              "        vertical-align: middle;\n",
              "    }\n",
              "\n",
              "    .dataframe tbody tr th {\n",
              "        vertical-align: top;\n",
              "    }\n",
              "\n",
              "    .dataframe thead th {\n",
              "        text-align: right;\n",
              "    }\n",
              "</style>\n",
              "<table border=\"1\" class=\"dataframe\">\n",
              "  <thead>\n",
              "    <tr style=\"text-align: right;\">\n",
              "      <th></th>\n",
              "      <th>country</th>\n",
              "      <th>emissions</th>\n",
              "      <th>segment</th>\n",
              "    </tr>\n",
              "  </thead>\n",
              "  <tbody>\n",
              "    <tr>\n",
              "      <th>0</th>\n",
              "      <td>Algeria</td>\n",
              "      <td>257.611206</td>\n",
              "      <td>Total</td>\n",
              "    </tr>\n",
              "    <tr>\n",
              "      <th>1</th>\n",
              "      <td>Algeria</td>\n",
              "      <td>0.052000</td>\n",
              "      <td>Bioenergy</td>\n",
              "    </tr>\n",
              "    <tr>\n",
              "      <th>2</th>\n",
              "      <td>Algeria</td>\n",
              "      <td>130.798996</td>\n",
              "      <td>Gas pipelines and LNG facilities</td>\n",
              "    </tr>\n",
              "    <tr>\n",
              "      <th>3</th>\n",
              "      <td>Algeria</td>\n",
              "      <td>69.741898</td>\n",
              "      <td>Gas pipelines and LNG facilities</td>\n",
              "    </tr>\n",
              "    <tr>\n",
              "      <th>4</th>\n",
              "      <td>Algeria</td>\n",
              "      <td>213.987000</td>\n",
              "      <td>Onshore gas</td>\n",
              "    </tr>\n",
              "    <tr>\n",
              "      <th>...</th>\n",
              "      <td>...</td>\n",
              "      <td>...</td>\n",
              "      <td>...</td>\n",
              "    </tr>\n",
              "    <tr>\n",
              "      <th>1521</th>\n",
              "      <td>Uzbekistan</td>\n",
              "      <td>16.973917</td>\n",
              "      <td>Other from oil and gas</td>\n",
              "    </tr>\n",
              "    <tr>\n",
              "      <th>1522</th>\n",
              "      <td>Uzbekistan</td>\n",
              "      <td>18.299999</td>\n",
              "      <td>Satellite-detected large oil and gas emissions</td>\n",
              "    </tr>\n",
              "    <tr>\n",
              "      <th>1523</th>\n",
              "      <td>Uzbekistan</td>\n",
              "      <td>780.916138</td>\n",
              "      <td>Total</td>\n",
              "    </tr>\n",
              "    <tr>\n",
              "      <th>1524</th>\n",
              "      <td>Uzbekistan</td>\n",
              "      <td>3.845616</td>\n",
              "      <td>Total</td>\n",
              "    </tr>\n",
              "    <tr>\n",
              "      <th>1525</th>\n",
              "      <td>Uzbekistan</td>\n",
              "      <td>280.418243</td>\n",
              "      <td>Total</td>\n",
              "    </tr>\n",
              "  </tbody>\n",
              "</table>\n",
              "<p>1526 rows × 3 columns</p>\n",
              "</div>"
            ],
            "text/plain": [
              "         country   emissions                                         segment\n",
              "0        Algeria  257.611206                                           Total\n",
              "1        Algeria    0.052000                                       Bioenergy\n",
              "2        Algeria  130.798996                Gas pipelines and LNG facilities\n",
              "3        Algeria   69.741898                Gas pipelines and LNG facilities\n",
              "4        Algeria  213.987000                                     Onshore gas\n",
              "...          ...         ...                                             ...\n",
              "1521  Uzbekistan   16.973917                          Other from oil and gas\n",
              "1522  Uzbekistan   18.299999  Satellite-detected large oil and gas emissions\n",
              "1523  Uzbekistan  780.916138                                           Total\n",
              "1524  Uzbekistan    3.845616                                           Total\n",
              "1525  Uzbekistan  280.418243                                           Total\n",
              "\n",
              "[1526 rows x 3 columns]"
            ]
          },
          "execution_count": 33,
          "metadata": {},
          "output_type": "execute_result"
        }
      ],
      "source": [
        "columns_3_world_powers=[\"country\", \"emissions\", \"segment\"]\n",
        "df_us_chi_rus_emmision = df_copy_emissions[columns_3_world_powers]\n",
        "df_us_chi_rus_emmision"
      ]
    },
    {
      "cell_type": "markdown",
      "metadata": {},
      "source": [
        "* Filter the data to determine matches to the selected_countries list"
      ]
    },
    {
      "cell_type": "code",
      "execution_count": 34,
      "metadata": {},
      "outputs": [
        {
          "data": {
            "text/html": [
              "<div>\n",
              "<style scoped>\n",
              "    .dataframe tbody tr th:only-of-type {\n",
              "        vertical-align: middle;\n",
              "    }\n",
              "\n",
              "    .dataframe tbody tr th {\n",
              "        vertical-align: top;\n",
              "    }\n",
              "\n",
              "    .dataframe thead th {\n",
              "        text-align: right;\n",
              "    }\n",
              "</style>\n",
              "<table border=\"1\" class=\"dataframe\">\n",
              "  <thead>\n",
              "    <tr style=\"text-align: right;\">\n",
              "      <th></th>\n",
              "      <th>country</th>\n",
              "      <th>emissions</th>\n",
              "      <th>segment</th>\n",
              "    </tr>\n",
              "  </thead>\n",
              "  <tbody>\n",
              "    <tr>\n",
              "      <th>460</th>\n",
              "      <td>China</td>\n",
              "      <td>18501.914062</td>\n",
              "      <td>Total</td>\n",
              "    </tr>\n",
              "    <tr>\n",
              "      <th>461</th>\n",
              "      <td>China</td>\n",
              "      <td>984.200012</td>\n",
              "      <td>Bioenergy</td>\n",
              "    </tr>\n",
              "    <tr>\n",
              "      <th>462</th>\n",
              "      <td>China</td>\n",
              "      <td>5418.770020</td>\n",
              "      <td>Coking coal</td>\n",
              "    </tr>\n",
              "    <tr>\n",
              "      <th>463</th>\n",
              "      <td>China</td>\n",
              "      <td>552.119995</td>\n",
              "      <td>Gas pipelines and LNG facilities</td>\n",
              "    </tr>\n",
              "    <tr>\n",
              "      <th>464</th>\n",
              "      <td>China</td>\n",
              "      <td>294.390991</td>\n",
              "      <td>Gas pipelines and LNG facilities</td>\n",
              "    </tr>\n",
              "    <tr>\n",
              "      <th>...</th>\n",
              "      <td>...</td>\n",
              "      <td>...</td>\n",
              "      <td>...</td>\n",
              "    </tr>\n",
              "    <tr>\n",
              "      <th>1487</th>\n",
              "      <td>Russia</td>\n",
              "      <td>1014.000000</td>\n",
              "      <td>Satellite-detected large oil and gas emissions</td>\n",
              "    </tr>\n",
              "    <tr>\n",
              "      <th>1488</th>\n",
              "      <td>Russia</td>\n",
              "      <td>2591.629883</td>\n",
              "      <td>Steam coal</td>\n",
              "    </tr>\n",
              "    <tr>\n",
              "      <th>1489</th>\n",
              "      <td>Russia</td>\n",
              "      <td>18078.083984</td>\n",
              "      <td>Total</td>\n",
              "    </tr>\n",
              "    <tr>\n",
              "      <th>1490</th>\n",
              "      <td>Russia</td>\n",
              "      <td>323.421631</td>\n",
              "      <td>Total</td>\n",
              "    </tr>\n",
              "    <tr>\n",
              "      <th>1491</th>\n",
              "      <td>Russia</td>\n",
              "      <td>3931.244385</td>\n",
              "      <td>Total</td>\n",
              "    </tr>\n",
              "  </tbody>\n",
              "</table>\n",
              "<p>65 rows × 3 columns</p>\n",
              "</div>"
            ],
            "text/plain": [
              "     country     emissions                                         segment\n",
              "460    China  18501.914062                                           Total\n",
              "461    China    984.200012                                       Bioenergy\n",
              "462    China   5418.770020                                     Coking coal\n",
              "463    China    552.119995                Gas pipelines and LNG facilities\n",
              "464    China    294.390991                Gas pipelines and LNG facilities\n",
              "...      ...           ...                                             ...\n",
              "1487  Russia   1014.000000  Satellite-detected large oil and gas emissions\n",
              "1488  Russia   2591.629883                                      Steam coal\n",
              "1489  Russia  18078.083984                                           Total\n",
              "1490  Russia    323.421631                                           Total\n",
              "1491  Russia   3931.244385                                           Total\n",
              "\n",
              "[65 rows x 3 columns]"
            ]
          },
          "execution_count": 34,
          "metadata": {},
          "output_type": "execute_result"
        }
      ],
      "source": [
        "selected_countries = [\"United States\", \"Russia\", \"China\"]\n",
        "\n",
        "df_us_chi_rus_emmision = df_us_chi_rus_emmision[df_us_chi_rus_emmision[\"country\"].isin(selected_countries)]\n",
        "df_us_chi_rus_emmision"
      ]
    },
    {
      "cell_type": "markdown",
      "metadata": {},
      "source": [
        "* Remove records with category \"Total\" from column \"segment\""
      ]
    },
    {
      "cell_type": "code",
      "execution_count": 35,
      "metadata": {},
      "outputs": [
        {
          "data": {
            "text/html": [
              "<div>\n",
              "<style scoped>\n",
              "    .dataframe tbody tr th:only-of-type {\n",
              "        vertical-align: middle;\n",
              "    }\n",
              "\n",
              "    .dataframe tbody tr th {\n",
              "        vertical-align: top;\n",
              "    }\n",
              "\n",
              "    .dataframe thead th {\n",
              "        text-align: right;\n",
              "    }\n",
              "</style>\n",
              "<table border=\"1\" class=\"dataframe\">\n",
              "  <thead>\n",
              "    <tr style=\"text-align: right;\">\n",
              "      <th></th>\n",
              "      <th>country</th>\n",
              "      <th>emissions</th>\n",
              "      <th>segment</th>\n",
              "    </tr>\n",
              "  </thead>\n",
              "  <tbody>\n",
              "    <tr>\n",
              "      <th>461</th>\n",
              "      <td>China</td>\n",
              "      <td>984.200012</td>\n",
              "      <td>Bioenergy</td>\n",
              "    </tr>\n",
              "    <tr>\n",
              "      <th>462</th>\n",
              "      <td>China</td>\n",
              "      <td>5418.770020</td>\n",
              "      <td>Coking coal</td>\n",
              "    </tr>\n",
              "    <tr>\n",
              "      <th>463</th>\n",
              "      <td>China</td>\n",
              "      <td>552.119995</td>\n",
              "      <td>Gas pipelines and LNG facilities</td>\n",
              "    </tr>\n",
              "    <tr>\n",
              "      <th>464</th>\n",
              "      <td>China</td>\n",
              "      <td>294.390991</td>\n",
              "      <td>Gas pipelines and LNG facilities</td>\n",
              "    </tr>\n",
              "    <tr>\n",
              "      <th>465</th>\n",
              "      <td>China</td>\n",
              "      <td>16.911100</td>\n",
              "      <td>Offshore gas</td>\n",
              "    </tr>\n",
              "  </tbody>\n",
              "</table>\n",
              "</div>"
            ],
            "text/plain": [
              "    country    emissions                           segment\n",
              "461   China   984.200012                         Bioenergy\n",
              "462   China  5418.770020                       Coking coal\n",
              "463   China   552.119995  Gas pipelines and LNG facilities\n",
              "464   China   294.390991  Gas pipelines and LNG facilities\n",
              "465   China    16.911100                      Offshore gas"
            ]
          },
          "execution_count": 35,
          "metadata": {},
          "output_type": "execute_result"
        }
      ],
      "source": [
        "df_us_chi_rus_emmision = df_us_chi_rus_emmision[~(df_us_chi_rus_emmision[\"segment\"]==\"Total\")]\n",
        "df_us_chi_rus_emmision.head()"
      ]
    },
    {
      "cell_type": "markdown",
      "metadata": {},
      "source": [
        "* Group by \"country\", and sort by \"emisions\" in ascending order"
      ]
    },
    {
      "cell_type": "code",
      "execution_count": 36,
      "metadata": {},
      "outputs": [
        {
          "data": {
            "text/html": [
              "<div>\n",
              "<style scoped>\n",
              "    .dataframe tbody tr th:only-of-type {\n",
              "        vertical-align: middle;\n",
              "    }\n",
              "\n",
              "    .dataframe tbody tr th {\n",
              "        vertical-align: top;\n",
              "    }\n",
              "\n",
              "    .dataframe thead th {\n",
              "        text-align: right;\n",
              "    }\n",
              "</style>\n",
              "<table border=\"1\" class=\"dataframe\">\n",
              "  <thead>\n",
              "    <tr style=\"text-align: right;\">\n",
              "      <th></th>\n",
              "      <th>country</th>\n",
              "      <th>segment</th>\n",
              "      <th>emissions</th>\n",
              "    </tr>\n",
              "  </thead>\n",
              "  <tbody>\n",
              "    <tr>\n",
              "      <th>9</th>\n",
              "      <td>China</td>\n",
              "      <td>Steam coal</td>\n",
              "      <td>14809.000000</td>\n",
              "    </tr>\n",
              "    <tr>\n",
              "      <th>16</th>\n",
              "      <td>Russia</td>\n",
              "      <td>Onshore oil</td>\n",
              "      <td>6305.391022</td>\n",
              "    </tr>\n",
              "    <tr>\n",
              "      <th>26</th>\n",
              "      <td>United States</td>\n",
              "      <td>Onshore gas</td>\n",
              "      <td>5569.159912</td>\n",
              "    </tr>\n",
              "    <tr>\n",
              "      <th>1</th>\n",
              "      <td>China</td>\n",
              "      <td>Coking coal</td>\n",
              "      <td>5418.770020</td>\n",
              "    </tr>\n",
              "    <tr>\n",
              "      <th>27</th>\n",
              "      <td>United States</td>\n",
              "      <td>Onshore oil</td>\n",
              "      <td>4934.302002</td>\n",
              "    </tr>\n",
              "  </tbody>\n",
              "</table>\n",
              "</div>"
            ],
            "text/plain": [
              "          country      segment     emissions\n",
              "9           China   Steam coal  14809.000000\n",
              "16         Russia  Onshore oil   6305.391022\n",
              "26  United States  Onshore gas   5569.159912\n",
              "1           China  Coking coal   5418.770020\n",
              "27  United States  Onshore oil   4934.302002"
            ]
          },
          "execution_count": 36,
          "metadata": {},
          "output_type": "execute_result"
        }
      ],
      "source": [
        "df_us_chi_rus_emmision = df_us_chi_rus_emmision.groupby([\"country\", \"segment\"]).sum().reset_index().sort_values(by=\"emissions\", ascending=False)\n",
        "df_us_chi_rus_emmision.head()"
      ]
    },
    {
      "cell_type": "code",
      "execution_count": 37,
      "metadata": {
        "colab": {
          "base_uri": "https://localhost:8080/",
          "height": 449
        },
        "id": "tNfsS4S2ZPI8",
        "outputId": "6ded6f65-5ed4-4ef7-b119-d339518bcc30"
      },
      "outputs": [
        {
          "data": {
            "image/png": "[encoded data removed]",
            "text/plain": [
              "<Figure size 640x480 with 1 Axes>"
            ]
          },
          "metadata": {},
          "output_type": "display_data"
        }
      ],
      "source": [
        "sns.barplot(data=df_us_chi_rus_emmision, x=\"emissions\",y=\"segment\", hue=\"country\", errorbar=None, palette = colors)\n",
        "plt.xlabel(\"Emissions\")\n",
        "plt.ylabel(\"Type\")\n",
        "plt.title(\"Emissions of the three great powers by production processes\", fontweight=\"bold\")\n",
        "plt.show()"
      ]
    },
    {
      "cell_type": "markdown",
      "metadata": {},
      "source": [
        "#### *Description insights:*\n",
        "* The processes by which China emits the most emissions is by steam coal and Coking coal\n",
        "* The processes by which Russia and the United States emit the most emissions are Onshore oil and Onshore gas\n",
        "\n",
        "___"
      ]
    },
    {
      "cell_type": "markdown",
      "metadata": {},
      "source": [
        "### Colombia emissions analysis:"
      ]
    },
    {
      "cell_type": "code",
      "execution_count": 38,
      "metadata": {},
      "outputs": [
        {
          "data": {
            "text/html": [
              "<div>\n",
              "<style scoped>\n",
              "    .dataframe tbody tr th:only-of-type {\n",
              "        vertical-align: middle;\n",
              "    }\n",
              "\n",
              "    .dataframe tbody tr th {\n",
              "        vertical-align: top;\n",
              "    }\n",
              "\n",
              "    .dataframe thead th {\n",
              "        text-align: right;\n",
              "    }\n",
              "</style>\n",
              "<table border=\"1\" class=\"dataframe\">\n",
              "  <thead>\n",
              "    <tr style=\"text-align: right;\">\n",
              "      <th></th>\n",
              "      <th>segment</th>\n",
              "      <th>emissions</th>\n",
              "    </tr>\n",
              "  </thead>\n",
              "  <tbody>\n",
              "    <tr>\n",
              "      <th>8</th>\n",
              "      <td>Steam coal</td>\n",
              "      <td>357.726013</td>\n",
              "    </tr>\n",
              "    <tr>\n",
              "      <th>5</th>\n",
              "      <td>Onshore oil</td>\n",
              "      <td>256.080601</td>\n",
              "    </tr>\n",
              "    <tr>\n",
              "      <th>4</th>\n",
              "      <td>Onshore gas</td>\n",
              "      <td>48.133900</td>\n",
              "    </tr>\n",
              "    <tr>\n",
              "      <th>0</th>\n",
              "      <td>Bioenergy</td>\n",
              "      <td>42.119999</td>\n",
              "    </tr>\n",
              "    <tr>\n",
              "      <th>2</th>\n",
              "      <td>Gas pipelines and LNG facilities</td>\n",
              "      <td>31.595000</td>\n",
              "    </tr>\n",
              "  </tbody>\n",
              "</table>\n",
              "</div>"
            ],
            "text/plain": [
              "                            segment   emissions\n",
              "8                        Steam coal  357.726013\n",
              "5                       Onshore oil  256.080601\n",
              "4                       Onshore gas   48.133900\n",
              "0                         Bioenergy   42.119999\n",
              "2  Gas pipelines and LNG facilities   31.595000"
            ]
          },
          "execution_count": 38,
          "metadata": {},
          "output_type": "execute_result"
        }
      ],
      "source": [
        "# Create the data frame with the columns \"country\", \"emissions\" and \"segment\"\n",
        "columns_colombia=[\"country\", \"emissions\", \"segment\"]\n",
        "df_colombia_emmision = df_copy_emissions[columns_colombia]\n",
        "df_colombia_emmision.head()\n",
        "\n",
        "# Filter the data to determine matches to the column_colombia list\n",
        "column_colombia = [\"Colombia\"]\n",
        "df_colombia_emmision = df_colombia_emmision[df_colombia_emmision[\"country\"].isin(column_colombia)]\n",
        "df_colombia_emmision.head()\n",
        "\n",
        "# Remove records with category \"Total\" from column \"segment\"\n",
        "df_colombia_emmision = df_colombia_emmision[~(df_colombia_emmision[\"segment\"]==\"Total\")]\n",
        "\n",
        "# Group by \"segment\" and sort by \"emisions\" in ascending order\n",
        "df_colombia_emmision = df_colombia_emmision.groupby([\"segment\"]).sum().reset_index().sort_values(by=\"emissions\", ascending=False)\n",
        "df_colombia_emmision = df_colombia_emmision.drop(\"country\", axis= 1)\n",
        "df_colombia_emmision.head()"
      ]
    },
    {
      "cell_type": "code",
      "execution_count": 39,
      "metadata": {},
      "outputs": [
        {
          "data": {
            "image/png": "[encoded data removed]",
            "text/plain": [
              "<Figure size 640x480 with 1 Axes>"
            ]
          },
          "metadata": {},
          "output_type": "display_data"
        }
      ],
      "source": [
        "sns.barplot(data=df_colombia_emmision, x=\"emissions\", y=\"segment\", errorbar=None, color = colors[0])\n",
        "plt.xlabel(\"Emissions\")\n",
        "plt.ylabel(\"Type\")\n",
        "plt.title(\"Emissions in Colombia by production processes\", fontweight=\"bold\")\n",
        "plt.show()"
      ]
    },
    {
      "cell_type": "markdown",
      "metadata": {},
      "source": [
        "#### *Description insights:*\n",
        "* The processes by which Colombia emits more emissions is by thermal coal and terrestrial oil\n"
      ]
    }
  ],
  "metadata": {
    "colab": {
      "provenance": []
    },
    "kernelspec": {
      "display_name": "Python 3",
      "name": "python3"
    },
    "language_info": {
      "codemirror_mode": {
        "name": "ipython",
        "version": 3
      },
      "file_extension": ".py",
      "mimetype": "text/x-python",
      "name": "python",
      "nbconvert_exporter": "python",
      "pygments_lexer": "ipython3",
      "version": "3.11.4"
    }
  },
  "nbformat": 4,
  "nbformat_minor": 0
}
